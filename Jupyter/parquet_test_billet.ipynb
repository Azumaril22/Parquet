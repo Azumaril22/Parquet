{
 "cells": [
  {
   "cell_type": "markdown",
   "metadata": {},
   "source": [
    "Prerequis :\n",
    "===========\n",
    "Téléchargement\n",
    "----------------\n",
    "wget ftp://ftp.1000genomes.ebi.ac.uk/vol1/ftp/data_collections/1000_genomes_project/release/20190312_biallelic_SNV_and_INDEL/ALL.wgs.shapeit2_integrated_snvindels_v2a.GRCh38.27022019.sites.vcf.gz\n",
    "\n",
    "Decompression\n",
    "-------------\n",
    "gzip -d ALL.wgs.shapeit2_integrated_snvindels_v2a.GRCh38.27022019.sites.vcf.gz\n",
    "\n",
    "Créer un dossier db à la racine du projet au même niveau que parquet_project"
   ]
  },
  {
   "cell_type": "code",
   "execution_count": 30,
   "metadata": {},
   "outputs": [],
   "source": [
    "import polars as pl\n",
    "import duckdb"
   ]
  },
  {
   "cell_type": "markdown",
   "metadata": {},
   "source": [
    "- Lisez le fichier VCF comme un CSV avec pl.scan_csv\n",
    "- Sélectionner les colonnes CHROM, POS, REF, ALT\n",
    "- Écrire le fichier variants.parquet avec sink_parquet"
   ]
  },
  {
   "cell_type": "code",
   "execution_count": null,
   "metadata": {},
   "outputs": [
    {
     "name": "stderr",
     "output_type": "stream",
     "text": [
      "/tmp/ipykernel_214050/2213946102.py:11: DeprecationWarning: The old streaming engine is being deprecated and will soon be replaced by the new streaming engine. Starting Polars version 1.23.0 and until the new streaming engine is released, the old streaming engine may become less usable. For people who rely on the old streaming engine, it is suggested to pin your version to before 1.23.0.\n",
      "\n",
      "More information on the new streaming engine: https://github.com/pola-rs/polars/issues/20947\n",
      "  ).sink_parquet(                         # Écriture du fichier parquet\n"
     ]
    }
   ],
   "source": [
    "pl.scan_csv(\n",
    "    \"Datasets/ALL.wgs.shapeit2_integrated_snvindels_v2a.GRCh38.27022019.sites.vcf\",\n",
    "    skip_rows=40,                       # Je saute les 40 premieres lignes de commentaires\n",
    "    separator=\"\\t\",                           # Séparateur TSV\n",
    "    schema_overrides={\"#CHROM\": pl.Utf8},         # Je précise le type, sinon la colonne est considérée comme un int\n",
    ").select([                              # Je sélectionne les colonnes souhaitées\n",
    "    pl.col(\"#CHROM\").alias(\"CHROM\"),    # Je renomme ici la colonne avec alias\n",
    "    pl.col(\"POS\"),\n",
    "    pl.col(\"REF\"),\n",
    "    pl.col(\"ALT\")]\n",
    ").sink_parquet(                         # Écriture du fichier parquet \n",
    "    \"db/variants.parquet\"\n",
    ")"
   ]
  },
  {
   "cell_type": "markdown",
   "metadata": {},
   "source": [
    "✅ Ce qu’il faut savoir sur le streaming avec Polars\n",
    "----------------------------------------------------\n",
    "Le moteur de streaming actuel (avant 1.23) fonctionne, mais il est marqué comme \"deprecated\" car l’équipe Polars travaille sur une nouvelle version plus robuste.  \n",
    "Pour le moment, il n’y a pas d’alternative dans Polars pour gérer ce type de fichiers en streaming. Donc même si tu vois le warning, tu peux continuer à l’utiliser."
   ]
  },
  {
   "cell_type": "markdown",
   "metadata": {},
   "source": [
    "- Les fonctions scan_csv et sink_csv permettent de faire la transformation du VCF sans le charger en mémoire. \n",
    "- Regardez aussi les tailles du fichier. 225Mo pour le fichier parquet et 1.3Go pour son équivalent en CSV. \n",
    "- En effet, les fichiers parquets sont compressés naturellement du fait du modèle orienté colonne."
   ]
  },
  {
   "cell_type": "markdown",
   "metadata": {},
   "source": [
    "Requête SQL avec DuckDB\n",
    "-----------------------\n",
    "À présent essayez de requêter sur ce fichier. Nous pourrions le faire avec pola.rs, mais nous allons plutôt faire une requête SQL en utilisant duckDB.\n",
    "\n",
    "Pour exécuter une requête SQL sur un fichier parquet, il suffit de considérer le fichier comme le nom d'une table SQL :"
   ]
  },
  {
   "cell_type": "code",
   "execution_count": 32,
   "metadata": {},
   "outputs": [
    {
     "data": {
      "text/plain": [
       "┌──────────────┐\n",
       "│ count_star() │\n",
       "│    int64     │\n",
       "├──────────────┤\n",
       "│     78229218 │\n",
       "└──────────────┘"
      ]
     },
     "execution_count": 32,
     "metadata": {},
     "output_type": "execute_result"
    }
   ],
   "source": [
    "duckdb.sql(\"SELECT count(*) FROM 'db/variants.parquet'\")"
   ]
  },
  {
   "cell_type": "code",
   "execution_count": 33,
   "metadata": {},
   "outputs": [
    {
     "data": {
      "text/plain": [
       "┌─────────┬─────────┬─────────┬─────────┐\n",
       "│  CHROM  │   POS   │   REF   │   ALT   │\n",
       "│ varchar │  int64  │ varchar │ varchar │\n",
       "├─────────┼─────────┼─────────┼─────────┤\n",
       "│ 1       │   10416 │ CCCTAA  │ C       │\n",
       "│ 1       │   16103 │ T       │ G       │\n",
       "│ 1       │   17496 │ AC      │ A       │\n",
       "│ 1       │   51479 │ T       │ A       │\n",
       "│ 1       │   51898 │ C       │ A       │\n",
       "│ 1       │   51928 │ G       │ A       │\n",
       "│ 1       │   51954 │ G       │ C       │\n",
       "│ 1       │   54490 │ G       │ A       │\n",
       "│ 1       │   54669 │ C       │ T       │\n",
       "│ 1       │   54708 │ G       │ C       │\n",
       "│ ·       │     ·   │ ·       │ ·       │\n",
       "│ ·       │     ·   │ ·       │ ·       │\n",
       "│ ·       │     ·   │ ·       │ ·       │\n",
       "│ 1       │ 1085650 │ G       │ A       │\n",
       "│ 1       │ 1085653 │ G       │ A       │\n",
       "│ 1       │ 1085692 │ G       │ A       │\n",
       "│ 1       │ 1085713 │ G       │ A       │\n",
       "│ 1       │ 1085714 │ G       │ A       │\n",
       "│ 1       │ 1085727 │ G       │ A       │\n",
       "│ 1       │ 1085807 │ G       │ A       │\n",
       "│ 1       │ 1085824 │ G       │ T       │\n",
       "│ 1       │ 1085849 │ C       │ T       │\n",
       "│ 1       │ 1085862 │ C       │ T       │\n",
       "├─────────┴─────────┴─────────┴─────────┤\n",
       "│     ? rows (>9999 rows, 20 shown)     │\n",
       "└───────────────────────────────────────┘"
      ]
     },
     "execution_count": 33,
     "metadata": {},
     "output_type": "execute_result"
    }
   ],
   "source": [
    "duckdb.sql(\"SELECT * FROM 'db/variants.parquet' ORDER BY CHROM, POS\")"
   ]
  },
  {
   "cell_type": "code",
   "execution_count": 34,
   "metadata": {},
   "outputs": [
    {
     "data": {
      "text/plain": [
       "┌─────────┬─────────┬─────────┬─────────┐\n",
       "│  CHROM  │   POS   │   REF   │   ALT   │\n",
       "│ varchar │  int64  │ varchar │ varchar │\n",
       "├─────────┼─────────┼─────────┼─────────┤\n",
       "│ 1       │   55365 │ A       │ G       │\n",
       "│ 1       │   55385 │ A       │ G       │\n",
       "│ 1       │   57053 │ A       │ T       │\n",
       "│ 1       │   61987 │ A       │ G       │\n",
       "│ 1       │   62017 │ A       │ G       │\n",
       "│ 1       │   66219 │ A       │ T       │\n",
       "│ 1       │   66259 │ A       │ T       │\n",
       "│ 1       │   66264 │ A       │ T       │\n",
       "│ 1       │   66269 │ A       │ T       │\n",
       "│ 1       │   66275 │ A       │ T       │\n",
       "│ ·       │     ·   │ ·       │ ·       │\n",
       "│ ·       │     ·   │ ·       │ ·       │\n",
       "│ ·       │     ·   │ ·       │ ·       │\n",
       "│ 1       │ 3351159 │ A       │ G       │\n",
       "│ 1       │ 3351868 │ A       │ C       │\n",
       "│ 1       │ 3351893 │ A       │ G       │\n",
       "│ 1       │ 3352321 │ A       │ G       │\n",
       "│ 1       │ 3352797 │ A       │ G       │\n",
       "│ 1       │ 3353146 │ A       │ C       │\n",
       "│ 1       │ 3353264 │ A       │ G       │\n",
       "│ 1       │ 3354593 │ A       │ G       │\n",
       "│ 1       │ 3354951 │ A       │ C       │\n",
       "│ 1       │ 3355027 │ A       │ AG      │\n",
       "├─────────┴─────────┴─────────┴─────────┤\n",
       "│     ? rows (>9999 rows, 20 shown)     │\n",
       "└───────────────────────────────────────┘"
      ]
     },
     "execution_count": 34,
     "metadata": {},
     "output_type": "execute_result"
    }
   ],
   "source": [
    "duckdb.sql(\"SELECT * FROM 'db/variants.parquet' WHERE REF='A' ORDER BY CHROM, POS\")"
   ]
  },
  {
   "cell_type": "markdown",
   "metadata": {},
   "source": [
    "À présent, essayons de faire plus compliqué en comptant le nombre de transitions et de transversions. C'est à dire, le nombre de combinaisons A>T, C>G etc ..."
   ]
  },
  {
   "cell_type": "code",
   "execution_count": 35,
   "metadata": {},
   "outputs": [
    {
     "data": {
      "text/plain": [
       "┌───────────┬──────────┐\n",
       "│    mut    │  count   │\n",
       "│ varchar[] │  int64   │\n",
       "├───────────┼──────────┤\n",
       "│ [A, G]    │ 24828822 │\n",
       "│ [C, G]    │  6315729 │\n",
       "│ [C, T]    │ 24782079 │\n",
       "│ [A, T]    │  5140035 │\n",
       "│ [A, C]    │  6086989 │\n",
       "│ [G, T]    │  6103978 │\n",
       "└───────────┴──────────┘"
      ]
     },
     "execution_count": 35,
     "metadata": {},
     "output_type": "execute_result"
    }
   ],
   "source": [
    "q = \"\"\"\n",
    "SELECT list_sort([ref,alt]) AS mut, COUNT(*) as count FROM 'db/variants.parquet' \n",
    "WHERE len(ref) = 1 AND len(alt)=1 GROUP BY mut\n",
    "\"\"\"\n",
    "\n",
    "duckdb.sql(q)"
   ]
  },
  {
   "cell_type": "markdown",
   "metadata": {},
   "source": [
    "Autres astuces\n",
    "==============\n",
    "Le partitionnement\n",
    "------------------\n",
    "Niveau performance, c'est déjà bluffant. Mais il existe différentes méthodes d'optimisation pour être plus performant suivant l'usage des données. Le partitionnement consiste à découper votre fichier parquet en plusieurs fichiers parquet depuis une ou plusieurs colonnes. Par exemple, je peux partitionner le fichier parquet variants.parquet par chromosomes. Si je dois chercher un variant sur le chromosome 8, je peux regarder uniquement dans le fichier correspondant. Inutile de parcourir les variants du chromosomes 2.\n",
    "\n",
    "Construisons une partition sur la colonne chromosome avec duckDB :"
   ]
  },
  {
   "cell_type": "code",
   "execution_count": 36,
   "metadata": {},
   "outputs": [],
   "source": [
    "duckdb.sql(\n",
    "    \"COPY (SELECT * FROM 'db/variants.parquet') TO 'db/chromosomes' (FORMAT PARQUET, PARTITION_BY (CHROM))\"\n",
    ")"
   ]
  },
  {
   "cell_type": "markdown",
   "metadata": {},
   "source": [
    "Après avoir exécuté cette requête, vous devriez avoir un dossier chromosomes contenant de nombreux fichiers triés par chromosomes.\n",
    "Pour sélectionner vos variants depuis ce dossier, il suffit d'utiliser le caractère étoile ou des expressions régulières pour sélectionner les sources de données souhaitées."
   ]
  },
  {
   "cell_type": "markdown",
   "metadata": {},
   "source": [
    "Dans l'exemple suivant, je sélectionne tous les variants à partir de tous les fichiers :"
   ]
  },
  {
   "cell_type": "code",
   "execution_count": 37,
   "metadata": {},
   "outputs": [
    {
     "data": {
      "text/plain": [
       "┌──────────┬─────────┬─────────┬─────────┐\n",
       "│   POS    │   REF   │   ALT   │  CHROM  │\n",
       "│  int64   │ varchar │ varchar │ varchar │\n",
       "├──────────┼─────────┼─────────┼─────────┤\n",
       "│ 14795073 │ AC      │ A       │ 1       │\n",
       "│ 14795117 │ T       │ C       │ 1       │\n",
       "│ 14795122 │ G       │ T       │ 1       │\n",
       "│ 14795154 │ T       │ C       │ 1       │\n",
       "│ 14795187 │ G       │ A       │ 1       │\n",
       "│ 14795206 │ C       │ T       │ 1       │\n",
       "│ 14795211 │ T       │ C       │ 1       │\n",
       "│ 14795263 │ T       │ A       │ 1       │\n",
       "│ 14795264 │ G       │ A       │ 1       │\n",
       "│ 14795266 │ G       │ C       │ 1       │\n",
       "│     ·    │ ·       │ ·       │ ·       │\n",
       "│     ·    │ ·       │ ·       │ ·       │\n",
       "│     ·    │ ·       │ ·       │ ·       │\n",
       "│ 15091644 │ G       │ A       │ 1       │\n",
       "│ 15091748 │ A       │ G       │ 1       │\n",
       "│ 15091751 │ C       │ G       │ 1       │\n",
       "│ 15091891 │ C       │ T       │ 1       │\n",
       "│ 15091935 │ A       │ G       │ 1       │\n",
       "│ 15091960 │ G       │ C       │ 1       │\n",
       "│ 15091980 │ AT      │ A       │ 1       │\n",
       "│ 15092038 │ T       │ A       │ 1       │\n",
       "│ 15092057 │ T       │ TTG     │ 1       │\n",
       "│ 15092062 │ T       │ G       │ 1       │\n",
       "├──────────┴─────────┴─────────┴─────────┤\n",
       "│     ? rows (>9999 rows, 20 shown)      │\n",
       "└────────────────────────────────────────┘"
      ]
     },
     "execution_count": 37,
     "metadata": {},
     "output_type": "execute_result"
    }
   ],
   "source": [
    "duckdb.sql(\"SELECT * FROM 'db/chromosomes/*/*.parquet'\")"
   ]
  }
 ],
 "metadata": {
  "kernelspec": {
   "display_name": ".venv",
   "language": "python",
   "name": "python3"
  },
  "language_info": {
   "codemirror_mode": {
    "name": "ipython",
    "version": 3
   },
   "file_extension": ".py",
   "mimetype": "text/x-python",
   "name": "python",
   "nbconvert_exporter": "python",
   "pygments_lexer": "ipython3",
   "version": "3.11.2"
  }
 },
 "nbformat": 4,
 "nbformat_minor": 2
}
