{
 "cells": [
  {
   "cell_type": "code",
   "execution_count": null,
   "metadata": {},
   "outputs": [
    {
     "name": "stdout",
     "output_type": "stream",
     "text": [
      "shape: (3, 4)\n",
      "┌─────────┬─────────────────┬───────────────────┬─────────────────────────┐\n",
      "│ FORMAT  ┆ VALEUR          ┆ sample_keys       ┆ sample_values           │\n",
      "│ ---     ┆ ---             ┆ ---               ┆ ---                     │\n",
      "│ str     ┆ str             ┆ list[str]         ┆ list[str]               │\n",
      "╞═════════╪═════════════════╪═══════════════════╪═════════════════════════╡\n",
      "│ A|B|C   ┆ 1|2|3           ┆ [\"A\", \"B\", \"C\"]   ┆ [\"1\", \"2\", \"3\"]         │\n",
      "│ X|Y     ┆ 10|20           ┆ [\"X\", \"Y\"]        ┆ [\"10\", \"20\"]            │\n",
      "│ M|N|O|P ┆ 100|200|300|400 ┆ [\"M\", \"N\", … \"P\"] ┆ [\"100\", \"200\", … \"400\"] │\n",
      "└─────────┴─────────────────┴───────────────────┴─────────────────────────┘\n"
     ]
    },
    {
     "name": "stderr",
     "output_type": "stream",
     "text": [
      "/tmp/ipykernel_11151/2236808875.py:29: PerformanceWarning: Resolving the schema of a LazyFrame is a potentially expensive operation. Use `LazyFrame.collect_schema()` to get the schema without this warning.\n",
      "  [pl.col(col).alias(f\"sample_{col}\") if col not in [\"FORMAT\", \"VALEUR\"] else pl.col(col) for col in lf.schema]\n",
      "/tmp/ipykernel_11151/2236808875.py:33: DeprecationWarning: The old streaming engine is being deprecated and will soon be replaced by the new streaming engine. Starting Polars version 1.23.0 and until the new streaming engine is released, the old streaming engine may become less usable. For people who rely on the old streaming engine, it is suggested to pin your version to before 1.23.0.\n",
      "\n",
      "More information on the new streaming engine: https://github.com/pola-rs/polars/issues/20947\n",
      "  lf.sink_parquet(\"../db/variants.parquet\")\n"
     ]
    }
   ],
   "source": [
    "import polars as pl\n",
    "\n",
    "# Exemple de LazyFrame avec FORMAT et VALEUR\n",
    "lf = pl.LazyFrame({\n",
    "    \"FORMAT\": [\"A|B|C\", \"X|Y\", \"M|N|O|P\"],\n",
    "    \"VALEUR\": [\"1|2|3\", \"10|20\", \"100|200|300|400\"]\n",
    "})\n",
    "\n",
    "# Etape 1 : Splitter les colonnes en listes\n",
    "lf = lf.with_columns([\n",
    "    pl.col(\"FORMAT\").str.split(\"|\").alias(\"keys\"),\n",
    "    pl.col(\"VALEUR\").str.split(\"|\").alias(\"values\")\n",
    "])\n",
    "\n",
    "# Etape 2 : Créer un dictionnaire clé -> valeur par ligne\n",
    "lf = lf.with_columns(\n",
    "    pl.struct([\"keys\", \"values\"]).map_elements(\n",
    "        lambda row: dict(zip(row[\"keys\"], row[\"values\"])),\n",
    "        return_dtype=pl.Struct\n",
    "    ).alias(\"kv_dict\")\n",
    ")\n",
    "\n",
    "# Etape 3 : Transformer le dictionnaire en colonnes séparées\n",
    "lf = lf.unnest(\"kv_dict\")\n",
    "\n",
    "\n",
    "# Collecter et afficher le résultat\n",
    "df = lf.collect()\n",
    "print(df)\n",
    "\n",
    "# Etape 4 : Renommer les colonnes\n",
    "df = df.rename({col: f\"sample_{col}\" for col in lf.schema if col not in [\"FORMAT\", \"VALEUR\"]})\n",
    "\n",
    "# Sauvegarde en Parquet avec les colonnes splitées\n",
    "df.write_parquet(\"../db/variants.parquet\")\n"
   ]
  },
  {
   "cell_type": "code",
   "execution_count": 1,
   "metadata": {},
   "outputs": [
    {
     "ename": "TypeError",
     "evalue": "'LazyFrame' object is not subscriptable (aside from slicing)\n\nUse `select()` or `filter()` instead.",
     "output_type": "error",
     "traceback": [
      "\u001b[31m---------------------------------------------------------------------------\u001b[39m",
      "\u001b[31mTypeError\u001b[39m                                 Traceback (most recent call last)",
      "\u001b[36mCell\u001b[39m\u001b[36m \u001b[39m\u001b[32mIn[1]\u001b[39m\u001b[32m, line 28\u001b[39m\n\u001b[32m     17\u001b[39m expanded_df = df.with_columns(\n\u001b[32m     18\u001b[39m     pl.struct([\u001b[33m'\u001b[39m\u001b[33mFORMAT\u001b[39m\u001b[33m'\u001b[39m, \u001b[33m'\u001b[39m\u001b[33mGENOTYPE\u001b[39m\u001b[33m'\u001b[39m])\n\u001b[32m     19\u001b[39m     .map_elements(\n\u001b[32m   (...)\u001b[39m\u001b[32m     23\u001b[39m     .alias(\u001b[33m'\u001b[39m\u001b[33mexpanded\u001b[39m\u001b[33m'\u001b[39m)\n\u001b[32m     24\u001b[39m )\n\u001b[32m     26\u001b[39m \u001b[38;5;66;03m# Extraire les noms des clés pour renommer les colonnes\u001b[39;00m\n\u001b[32m     27\u001b[39m \u001b[38;5;66;03m# On prend la première ligne pour déterminer les noms des colonnes\u001b[39;00m\n\u001b[32m---> \u001b[39m\u001b[32m28\u001b[39m first_row_keys = \u001b[43mdf\u001b[49m\u001b[43m[\u001b[49m\u001b[33;43m'\u001b[39;49m\u001b[33;43mFORMAT\u001b[39;49m\u001b[33;43m'\u001b[39;49m\u001b[43m]\u001b[49m[\u001b[32m0\u001b[39m].split(\u001b[33m'\u001b[39m\u001b[33m|\u001b[39m\u001b[33m'\u001b[39m)\n\u001b[32m     30\u001b[39m \u001b[38;5;66;03m# Exploser la colonne 'expanded' en plusieurs colonnes avec les noms des clés\u001b[39;00m\n\u001b[32m     31\u001b[39m result_df = expanded_df.with_columns(\n\u001b[32m     32\u001b[39m     pl.col(\u001b[33m'\u001b[39m\u001b[33mexpanded\u001b[39m\u001b[33m'\u001b[39m).struct.rename_fields(first_row_keys)\n\u001b[32m     33\u001b[39m ).unnest(\u001b[33m'\u001b[39m\u001b[33mexpanded\u001b[39m\u001b[33m'\u001b[39m)\n",
      "\u001b[36mFile \u001b[39m\u001b[32m~/Dev/Parquet/.venv/lib/python3.11/site-packages/polars/lazyframe/frame.py:631\u001b[39m, in \u001b[36mLazyFrame.__getitem__\u001b[39m\u001b[34m(self, item)\u001b[39m\n\u001b[32m    626\u001b[39m \u001b[38;5;28;01mif\u001b[39;00m \u001b[38;5;129;01mnot\u001b[39;00m \u001b[38;5;28misinstance\u001b[39m(item, \u001b[38;5;28mslice\u001b[39m):\n\u001b[32m    627\u001b[39m     msg = (\n\u001b[32m    628\u001b[39m         \u001b[33m\"\u001b[39m\u001b[33m'\u001b[39m\u001b[33mLazyFrame\u001b[39m\u001b[33m'\u001b[39m\u001b[33m object is not subscriptable (aside from slicing)\u001b[39m\u001b[33m\"\u001b[39m\n\u001b[32m    629\u001b[39m         \u001b[33m\"\u001b[39m\u001b[38;5;130;01m\\n\u001b[39;00m\u001b[38;5;130;01m\\n\u001b[39;00m\u001b[33mUse `select()` or `filter()` instead.\u001b[39m\u001b[33m\"\u001b[39m\n\u001b[32m    630\u001b[39m     )\n\u001b[32m--> \u001b[39m\u001b[32m631\u001b[39m     \u001b[38;5;28;01mraise\u001b[39;00m \u001b[38;5;167;01mTypeError\u001b[39;00m(msg)\n\u001b[32m    632\u001b[39m \u001b[38;5;28;01mreturn\u001b[39;00m LazyPolarsSlice(\u001b[38;5;28mself\u001b[39m).apply(item)\n",
      "\u001b[31mTypeError\u001b[39m: 'LazyFrame' object is not subscriptable (aside from slicing)\n\nUse `select()` or `filter()` instead."
     ]
    }
   ],
   "source": [
    "import polars as pl\n",
    "\n",
    "# Exemple de DataFrame\n",
    "data = {\n",
    "    'FORMAT': ['cle1|cle2|cle3', 'cle1|cle2', 'cle3|cle4'],\n",
    "    'GENOTYPE': ['valeur1|valeur2|valeur3', 'valeur4|valeur5', 'valeur6|valeur7']\n",
    "}\n",
    "df = pl.LazyFrame(data)\n",
    "\n",
    "# Fonction pour splitter et créer les colonnes\n",
    "def split_and_expand(row):\n",
    "    keys = row['FORMAT'].split('|')\n",
    "    values = row['GENOTYPE'].split('|')\n",
    "    return {key: value for key, value in zip(keys, values)}\n",
    "\n",
    "# Appliquer la fonction à chaque ligne et créer un nouveau DataFrame\n",
    "expanded_df = df.with_columns(\n",
    "    pl.struct(['FORMAT', 'GENOTYPE'])\n",
    "    .map_elements(\n",
    "        lambda row: split_and_expand(row),\n",
    "        return_dtype=pl.Struct\n",
    "    )\n",
    "    .alias('expanded')\n",
    ")\n",
    "\n",
    "# Extraire les noms des clés pour renommer les colonnes\n",
    "# On prend la première ligne pour déterminer les noms des colonnes\n",
    "first_row_keys = df['FORMAT'][0].split('|')\n",
    "\n",
    "# Exploser la colonne 'expanded' en plusieurs colonnes avec les noms des clés\n",
    "result_df = expanded_df.with_columns(\n",
    "    pl.col('expanded').struct.rename_fields(first_row_keys)\n",
    ").unnest('expanded')\n",
    "\n",
    "# Afficher le résultat\n",
    "print(result_df)"
   ]
  }
 ],
 "metadata": {
  "kernelspec": {
   "display_name": ".venv",
   "language": "python",
   "name": "python3"
  },
  "language_info": {
   "codemirror_mode": {
    "name": "ipython",
    "version": 3
   },
   "file_extension": ".py",
   "mimetype": "text/x-python",
   "name": "python",
   "nbconvert_exporter": "python",
   "pygments_lexer": "ipython3",
   "version": "3.11.2"
  }
 },
 "nbformat": 4,
 "nbformat_minor": 2
}
