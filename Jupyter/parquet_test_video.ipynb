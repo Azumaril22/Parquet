{
 "cells": [
  {
   "cell_type": "code",
   "execution_count": 1,
   "metadata": {},
   "outputs": [],
   "source": [
    "import polars as pl\n",
    "import duckdb"
   ]
  },
  {
   "cell_type": "code",
   "execution_count": null,
   "metadata": {},
   "outputs": [],
   "source": [
    "lf = pl.scan_csv(\n",
    "    \"../Datasets/VCF_annovar.vcf\",\n",
    "    skip_rows=444,\n",
    "    separator=\"\\t\",\n",
    "    schema_overrides={\"#CHROM\": pl.Utf8},\n",
    ")"
   ]
  },
  {
   "cell_type": "code",
   "execution_count": 3,
   "metadata": {},
   "outputs": [],
   "source": [
    "# df.limit(5).collect()"
   ]
  },
  {
   "cell_type": "code",
   "execution_count": 4,
   "metadata": {},
   "outputs": [],
   "source": [
    "# df.select(pl.col(\"#CHROM\").alias(\"CHROM\").str.replace(\"chr\", \"\"), ).limit(5).collect()"
   ]
  },
  {
   "cell_type": "code",
   "execution_count": 5,
   "metadata": {},
   "outputs": [],
   "source": [
    "# df.select(\n",
    "#     pl.col(\"#CHROM\").alias(\"CHROM\").str.replace(\"chr\", \"\"),\n",
    "#     pl.col([\"POS\", \"REF\", \"ALT\"]),\n",
    "# ).limit(5).collect()"
   ]
  },
  {
   "cell_type": "code",
   "execution_count": 6,
   "metadata": {},
   "outputs": [],
   "source": [
    "# df.select(\n",
    "#     pl.col(\"#CHROM\").alias(\"CHROM\").str.replace(\"chr\", \"\"),\n",
    "#     pl.col([\"POS\", \"REF\", \"ALT\"]),\n",
    "#     pl.col([\"INFO\"]).str.extract(r\"AC=(\\d+)\").cast(pl.Int32).alias(\"AC\"),\n",
    "#     pl.col([\"INFO\"])\n",
    "# ).limit(5).collect()"
   ]
  },
  {
   "cell_type": "code",
   "execution_count": 7,
   "metadata": {},
   "outputs": [],
   "source": [
    "# lf = df.select(\n",
    "#     pl.col(\"#CHROM\").alias(\"CHROM\").str.replace(\"chr\", \"\"),\n",
    "#     pl.col([\"POS\", \"REF\", \"ALT\"]),\n",
    "#     pl.col([\"INFO\"])\n",
    "# )"
   ]
  },
  {
   "cell_type": "code",
   "execution_count": 8,
   "metadata": {},
   "outputs": [],
   "source": [
    "# Supposons que la colonne qui contient les infos s'appelle 'info'\n",
    "def parse_info(row):\n",
    "    pairs = row.split(\";\")\n",
    "    return {k: v for k, v in (pair.split(\"=\", 1) for pair in pairs if \"=\" in pair)}\n"
   ]
  },
  {
   "cell_type": "code",
   "execution_count": 9,
   "metadata": {},
   "outputs": [],
   "source": [
    "# Transformer la colonne info\n",
    "lf_parsed = (\n",
    "    lf.with_columns(\n",
    "        pl.col(\"INFO\").map_elements(parse_info, return_dtype=pl.Struct).alias(\"parsed\")\n",
    "    )\n",
    "    .unnest(\"parsed\")  # Déplie le dictionnaire en colonnes\n",
    "    # .drop(\"INFO\")  # Optionnel : supprimer la colonne originale\n",
    ")\n"
   ]
  },
  {
   "cell_type": "code",
   "execution_count": 10,
   "metadata": {},
   "outputs": [
    {
     "data": {
      "text/html": [
       "<div><style>\n",
       ".dataframe > thead > tr,\n",
       ".dataframe > tbody > tr {\n",
       "  text-align: right;\n",
       "  white-space: pre-wrap;\n",
       "}\n",
       "</style>\n",
       "<small>shape: (5, 228)</small><table border=\"1\" class=\"dataframe\"><thead><tr><th>#CHROM</th><th>POS</th><th>ID</th><th>REF</th><th>ALT</th><th>QUAL</th><th>FILTER</th><th>INFO</th><th>FORMAT</th><th>1BD4I</th><th>1BD4M</th><th>1BD4P</th><th>AC</th><th>AF</th><th>AN</th><th>BaseQRankSum</th><th>DP</th><th>ExcessHet</th><th>FS</th><th>MLEAC</th><th>MLEAF</th><th>MQ</th><th>MQRankSum</th><th>QD</th><th>ReadPosRankSum</th><th>SOR</th><th>ANNOVAR_DATE</th><th>Func.refGeneWithVer</th><th>Gene.refGeneWithVer</th><th>GeneDetail.refGeneWithVer</th><th>ExonicFunc.refGeneWithVer</th><th>AAChange.refGeneWithVer</th><th>avsnp147</th><th>avsnp150</th><th>esp6500siv2_all</th><th>1000g2015aug_all</th><th>ExAC_nonpsych_ALL</th><th>&hellip;</th><th>PVS1</th><th>PS1</th><th>PS2</th><th>PS3</th><th>PS4</th><th>PM1</th><th>PM2</th><th>PM3</th><th>PM4</th><th>PM5</th><th>PM6</th><th>PP1</th><th>PP2</th><th>PP3</th><th>PP4</th><th>PP5</th><th>BA1</th><th>BS1</th><th>BS2</th><th>BS3</th><th>BS4</th><th>BP1</th><th>BP2</th><th>BP3</th><th>BP4</th><th>BP5</th><th>BP6</th><th>BP7</th><th>DN ID</th><th>Patient ID</th><th>Phenotype</th><th>Platform</th><th>Study</th><th>Pubmed ID</th><th>regsnp_fpr</th><th>regsnp_disease</th><th>regsnp_splicing_site</th></tr><tr><td>str</td><td>i64</td><td>str</td><td>str</td><td>str</td><td>f64</td><td>str</td><td>str</td><td>str</td><td>str</td><td>str</td><td>str</td><td>str</td><td>str</td><td>str</td><td>str</td><td>str</td><td>str</td><td>str</td><td>str</td><td>str</td><td>str</td><td>str</td><td>str</td><td>str</td><td>str</td><td>str</td><td>str</td><td>str</td><td>str</td><td>str</td><td>str</td><td>str</td><td>str</td><td>str</td><td>str</td><td>str</td><td>&hellip;</td><td>str</td><td>str</td><td>str</td><td>str</td><td>str</td><td>str</td><td>str</td><td>str</td><td>str</td><td>str</td><td>str</td><td>str</td><td>str</td><td>str</td><td>str</td><td>str</td><td>str</td><td>str</td><td>str</td><td>str</td><td>str</td><td>str</td><td>str</td><td>str</td><td>str</td><td>str</td><td>str</td><td>str</td><td>str</td><td>str</td><td>str</td><td>str</td><td>str</td><td>str</td><td>str</td><td>str</td><td>str</td></tr></thead><tbody><tr><td>&quot;chr1&quot;</td><td>13273</td><td>&quot;.&quot;</td><td>&quot;G&quot;</td><td>&quot;C&quot;</td><td>1941.97</td><td>&quot;SNP_filter&quot;</td><td>&quot;AC=3;AF=0.5;AN=6;BaseQRankSum=…</td><td>&quot;GT:AD:DP:GQ:PL&quot;</td><td>&quot;0/1:8,21:29:99:610,0,207&quot;</td><td>&quot;0/1:26,29:55:99:820,0,685&quot;</td><td>&quot;0/1:32,22:54:99:522,0,892&quot;</td><td>&quot;3&quot;</td><td>&quot;0.5&quot;</td><td>&quot;6&quot;</td><td>&quot;-1.439&quot;</td><td>&quot;138&quot;</td><td>&quot;3.9794&quot;</td><td>&quot;2.164&quot;</td><td>&quot;3&quot;</td><td>&quot;0.5&quot;</td><td>&quot;36.56&quot;</td><td>&quot;0.241&quot;</td><td>&quot;14.07&quot;</td><td>&quot;-0.54&quot;</td><td>&quot;0.924&quot;</td><td>&quot;2020-06-08&quot;</td><td>&quot;ncRNA_exonic&quot;</td><td>&quot;DDX11L1&quot;</td><td>&quot;.&quot;</td><td>&quot;.&quot;</td><td>&quot;.&quot;</td><td>&quot;rs531730856&quot;</td><td>&quot;rs531730856&quot;</td><td>&quot;.&quot;</td><td>&quot;0.0950479&quot;</td><td>&quot;.&quot;</td><td>&hellip;</td><td>&quot;.&quot;</td><td>&quot;.&quot;</td><td>&quot;.&quot;</td><td>&quot;.&quot;</td><td>&quot;.&quot;</td><td>&quot;.&quot;</td><td>&quot;.&quot;</td><td>&quot;.&quot;</td><td>&quot;.&quot;</td><td>&quot;.&quot;</td><td>&quot;.&quot;</td><td>&quot;.&quot;</td><td>&quot;.&quot;</td><td>&quot;.&quot;</td><td>&quot;.&quot;</td><td>&quot;.&quot;</td><td>&quot;.&quot;</td><td>&quot;.&quot;</td><td>&quot;.&quot;</td><td>&quot;.&quot;</td><td>&quot;.&quot;</td><td>&quot;.&quot;</td><td>&quot;.&quot;</td><td>&quot;.&quot;</td><td>&quot;.&quot;</td><td>&quot;.&quot;</td><td>&quot;.&quot;</td><td>&quot;.&quot;</td><td>&quot;.&quot;</td><td>&quot;.&quot;</td><td>&quot;.&quot;</td><td>&quot;.&quot;</td><td>&quot;.&quot;</td><td>&quot;.&quot;</td><td>&quot;.&quot;</td><td>&quot;.&quot;</td><td>&quot;.&quot;</td></tr><tr><td>&quot;chr1&quot;</td><td>13284</td><td>&quot;.&quot;</td><td>&quot;G&quot;</td><td>&quot;A&quot;</td><td>256.29</td><td>&quot;SNP_filter&quot;</td><td>&quot;AC=1;AF=0.167;AN=6;BaseQRankSu…</td><td>&quot;GT:AD:DP:GQ:PL&quot;</td><td>&quot;0/0:32,0:32:93:0,93,1395&quot;</td><td>&quot;0/0:45,0:45:99:0,120,1800&quot;</td><td>&quot;0/1:42,13:55:99:265,0,1167&quot;</td><td>&quot;1&quot;</td><td>&quot;0.167&quot;</td><td>&quot;6&quot;</td><td>&quot;4.26&quot;</td><td>&quot;132&quot;</td><td>&quot;0&quot;</td><td>&quot;6.658&quot;</td><td>&quot;1&quot;</td><td>&quot;0.167&quot;</td><td>&quot;34.94&quot;</td><td>&quot;-1.109&quot;</td><td>&quot;4.66&quot;</td><td>&quot;1.54&quot;</td><td>&quot;1.004&quot;</td><td>&quot;2020-06-08&quot;</td><td>&quot;ncRNA_exonic&quot;</td><td>&quot;DDX11L1&quot;</td><td>&quot;.&quot;</td><td>&quot;.&quot;</td><td>&quot;.&quot;</td><td>&quot;rs548333521&quot;</td><td>&quot;rs548333521&quot;</td><td>&quot;.&quot;</td><td>&quot;0.00139776&quot;</td><td>&quot;.&quot;</td><td>&hellip;</td><td>&quot;.&quot;</td><td>&quot;.&quot;</td><td>&quot;.&quot;</td><td>&quot;.&quot;</td><td>&quot;.&quot;</td><td>&quot;.&quot;</td><td>&quot;.&quot;</td><td>&quot;.&quot;</td><td>&quot;.&quot;</td><td>&quot;.&quot;</td><td>&quot;.&quot;</td><td>&quot;.&quot;</td><td>&quot;.&quot;</td><td>&quot;.&quot;</td><td>&quot;.&quot;</td><td>&quot;.&quot;</td><td>&quot;.&quot;</td><td>&quot;.&quot;</td><td>&quot;.&quot;</td><td>&quot;.&quot;</td><td>&quot;.&quot;</td><td>&quot;.&quot;</td><td>&quot;.&quot;</td><td>&quot;.&quot;</td><td>&quot;.&quot;</td><td>&quot;.&quot;</td><td>&quot;.&quot;</td><td>&quot;.&quot;</td><td>&quot;.&quot;</td><td>&quot;.&quot;</td><td>&quot;.&quot;</td><td>&quot;.&quot;</td><td>&quot;.&quot;</td><td>&quot;.&quot;</td><td>&quot;.&quot;</td><td>&quot;.&quot;</td><td>&quot;.&quot;</td></tr><tr><td>&quot;chr1&quot;</td><td>13417</td><td>&quot;.&quot;</td><td>&quot;C&quot;</td><td>&quot;CGAGA&quot;</td><td>1211.93</td><td>&quot;PASS&quot;</td><td>&quot;AC=3;AF=0.5;AN=6;BaseQRankSum=…</td><td>&quot;GT:AD:DP:GQ:PGT:PID:PL:PS&quot;</td><td>&quot;0/1:21,11:32:99:.:.:395,0,1238…</td><td>&quot;0|1:24,11:35:99:0|1:13417_C_CG…</td><td>&quot;0/1:35,12:47:99:.:.:440,0,2019…</td><td>&quot;3&quot;</td><td>&quot;0.5&quot;</td><td>&quot;6&quot;</td><td>&quot;-0.933&quot;</td><td>&quot;125&quot;</td><td>&quot;3.9794&quot;</td><td>&quot;6.8&quot;</td><td>&quot;3&quot;</td><td>&quot;0.5&quot;</td><td>&quot;33.01&quot;</td><td>&quot;1.42&quot;</td><td>&quot;10.63&quot;</td><td>&quot;0.124&quot;</td><td>&quot;1.426&quot;</td><td>&quot;2020-06-08&quot;</td><td>&quot;ncRNA_exonic&quot;</td><td>&quot;DDX11L1&quot;</td><td>&quot;.&quot;</td><td>&quot;.&quot;</td><td>&quot;.&quot;</td><td>&quot;rs777038595&quot;</td><td>&quot;rs777038595&quot;</td><td>&quot;.&quot;</td><td>&quot;.&quot;</td><td>&quot;0.1797&quot;</td><td>&hellip;</td><td>&quot;.&quot;</td><td>&quot;.&quot;</td><td>&quot;.&quot;</td><td>&quot;.&quot;</td><td>&quot;.&quot;</td><td>&quot;.&quot;</td><td>&quot;.&quot;</td><td>&quot;.&quot;</td><td>&quot;.&quot;</td><td>&quot;.&quot;</td><td>&quot;.&quot;</td><td>&quot;.&quot;</td><td>&quot;.&quot;</td><td>&quot;.&quot;</td><td>&quot;.&quot;</td><td>&quot;.&quot;</td><td>&quot;.&quot;</td><td>&quot;.&quot;</td><td>&quot;.&quot;</td><td>&quot;.&quot;</td><td>&quot;.&quot;</td><td>&quot;.&quot;</td><td>&quot;.&quot;</td><td>&quot;.&quot;</td><td>&quot;.&quot;</td><td>&quot;.&quot;</td><td>&quot;.&quot;</td><td>&quot;.&quot;</td><td>&quot;.&quot;</td><td>&quot;.&quot;</td><td>&quot;.&quot;</td><td>&quot;.&quot;</td><td>&quot;.&quot;</td><td>&quot;.&quot;</td><td>&quot;.&quot;</td><td>&quot;.&quot;</td><td>&quot;.&quot;</td></tr><tr><td>&quot;chr1&quot;</td><td>13418</td><td>&quot;.&quot;</td><td>&quot;G&quot;</td><td>&quot;A&quot;</td><td>21.29</td><td>&quot;LowQD;SNP_filter;VeryLowQual&quot;</td><td>&quot;AC=1;AF=0.167;AN=6;BaseQRankSu…</td><td>&quot;GT:AD:DP:GQ:PGT:PID:PL:PS&quot;</td><td>&quot;0/0:34,0:34:48:.:.:0,48,1076:.&quot;</td><td>&quot;0|1:33,5:38:30:1|0:13417_C_CGA…</td><td>&quot;0/0:51,0:51:67:.:.:0,67,1759:.&quot;</td><td>&quot;1&quot;</td><td>&quot;0.167&quot;</td><td>&quot;6&quot;</td><td>&quot;1.76&quot;</td><td>&quot;123&quot;</td><td>&quot;0&quot;</td><td>&quot;15.651&quot;</td><td>&quot;1&quot;</td><td>&quot;0.167&quot;</td><td>&quot;33.24&quot;</td><td>&quot;-2.732&quot;</td><td>&quot;0.56&quot;</td><td>&quot;0.281&quot;</td><td>&quot;1.852&quot;</td><td>&quot;2020-06-08&quot;</td><td>&quot;ncRNA_exonic&quot;</td><td>&quot;DDX11L1&quot;</td><td>&quot;.&quot;</td><td>&quot;.&quot;</td><td>&quot;.&quot;</td><td>&quot;rs759389692&quot;</td><td>&quot;rs75175547&quot;</td><td>&quot;.&quot;</td><td>&quot;.&quot;</td><td>&quot;0&quot;</td><td>&hellip;</td><td>&quot;.&quot;</td><td>&quot;.&quot;</td><td>&quot;.&quot;</td><td>&quot;.&quot;</td><td>&quot;.&quot;</td><td>&quot;.&quot;</td><td>&quot;.&quot;</td><td>&quot;.&quot;</td><td>&quot;.&quot;</td><td>&quot;.&quot;</td><td>&quot;.&quot;</td><td>&quot;.&quot;</td><td>&quot;.&quot;</td><td>&quot;.&quot;</td><td>&quot;.&quot;</td><td>&quot;.&quot;</td><td>&quot;.&quot;</td><td>&quot;.&quot;</td><td>&quot;.&quot;</td><td>&quot;.&quot;</td><td>&quot;.&quot;</td><td>&quot;.&quot;</td><td>&quot;.&quot;</td><td>&quot;.&quot;</td><td>&quot;.&quot;</td><td>&quot;.&quot;</td><td>&quot;.&quot;</td><td>&quot;.&quot;</td><td>&quot;.&quot;</td><td>&quot;.&quot;</td><td>&quot;.&quot;</td><td>&quot;.&quot;</td><td>&quot;.&quot;</td><td>&quot;.&quot;</td><td>&quot;.&quot;</td><td>&quot;.&quot;</td><td>&quot;.&quot;</td></tr><tr><td>&quot;chr1&quot;</td><td>13613</td><td>&quot;.&quot;</td><td>&quot;T&quot;</td><td>&quot;A&quot;</td><td>43.3</td><td>&quot;LowQD;LowQual;SNP_filter&quot;</td><td>&quot;AC=1;AF=0.167;AN=6;BaseQRankSu…</td><td>&quot;GT:AD:DP:GQ:PL&quot;</td><td>&quot;0/0:33,0:33:99:0,99,1236&quot;</td><td>&quot;0/1:48,8:56:52:52,0,1163&quot;</td><td>&quot;0/0:56,6:62:23:0,23,1421&quot;</td><td>&quot;1&quot;</td><td>&quot;0.167&quot;</td><td>&quot;6&quot;</td><td>&quot;0.791&quot;</td><td>&quot;151&quot;</td><td>&quot;0&quot;</td><td>&quot;41.748&quot;</td><td>&quot;1&quot;</td><td>&quot;0.167&quot;</td><td>&quot;24.46&quot;</td><td>&quot;-3.065&quot;</td><td>&quot;0.77&quot;</td><td>&quot;1.41&quot;</td><td>&quot;5.419&quot;</td><td>&quot;2020-06-08&quot;</td><td>&quot;ncRNA_exonic&quot;</td><td>&quot;DDX11L1&quot;</td><td>&quot;.&quot;</td><td>&quot;.&quot;</td><td>&quot;.&quot;</td><td>&quot;.&quot;</td><td>&quot;rs879980801&quot;</td><td>&quot;.&quot;</td><td>&quot;.&quot;</td><td>&quot;.&quot;</td><td>&hellip;</td><td>&quot;.&quot;</td><td>&quot;.&quot;</td><td>&quot;.&quot;</td><td>&quot;.&quot;</td><td>&quot;.&quot;</td><td>&quot;.&quot;</td><td>&quot;.&quot;</td><td>&quot;.&quot;</td><td>&quot;.&quot;</td><td>&quot;.&quot;</td><td>&quot;.&quot;</td><td>&quot;.&quot;</td><td>&quot;.&quot;</td><td>&quot;.&quot;</td><td>&quot;.&quot;</td><td>&quot;.&quot;</td><td>&quot;.&quot;</td><td>&quot;.&quot;</td><td>&quot;.&quot;</td><td>&quot;.&quot;</td><td>&quot;.&quot;</td><td>&quot;.&quot;</td><td>&quot;.&quot;</td><td>&quot;.&quot;</td><td>&quot;.&quot;</td><td>&quot;.&quot;</td><td>&quot;.&quot;</td><td>&quot;.&quot;</td><td>&quot;.&quot;</td><td>&quot;.&quot;</td><td>&quot;.&quot;</td><td>&quot;.&quot;</td><td>&quot;.&quot;</td><td>&quot;.&quot;</td><td>&quot;.&quot;</td><td>&quot;.&quot;</td><td>&quot;.&quot;</td></tr></tbody></table></div>"
      ],
      "text/plain": [
       "shape: (5, 228)\n",
       "┌────────┬───────┬─────┬─────┬───┬───────────┬────────────┬────────────────┬──────────────────────┐\n",
       "│ #CHROM ┆ POS   ┆ ID  ┆ REF ┆ … ┆ Pubmed ID ┆ regsnp_fpr ┆ regsnp_disease ┆ regsnp_splicing_site │\n",
       "│ ---    ┆ ---   ┆ --- ┆ --- ┆   ┆ ---       ┆ ---        ┆ ---            ┆ ---                  │\n",
       "│ str    ┆ i64   ┆ str ┆ str ┆   ┆ str       ┆ str        ┆ str            ┆ str                  │\n",
       "╞════════╪═══════╪═════╪═════╪═══╪═══════════╪════════════╪════════════════╪══════════════════════╡\n",
       "│ chr1   ┆ 13273 ┆ .   ┆ G   ┆ … ┆ .         ┆ .          ┆ .              ┆ .                    │\n",
       "│ chr1   ┆ 13284 ┆ .   ┆ G   ┆ … ┆ .         ┆ .          ┆ .              ┆ .                    │\n",
       "│ chr1   ┆ 13417 ┆ .   ┆ C   ┆ … ┆ .         ┆ .          ┆ .              ┆ .                    │\n",
       "│ chr1   ┆ 13418 ┆ .   ┆ G   ┆ … ┆ .         ┆ .          ┆ .              ┆ .                    │\n",
       "│ chr1   ┆ 13613 ┆ .   ┆ T   ┆ … ┆ .         ┆ .          ┆ .              ┆ .                    │\n",
       "└────────┴───────┴─────┴─────┴───┴───────────┴────────────┴────────────────┴──────────────────────┘"
      ]
     },
     "execution_count": 10,
     "metadata": {},
     "output_type": "execute_result"
    }
   ],
   "source": [
    "lf_parsed.limit(5).collect()"
   ]
  },
  {
   "cell_type": "code",
   "execution_count": 11,
   "metadata": {},
   "outputs": [],
   "source": [
    "\n",
    "# Ajouter la colonne ID incrémentielle\n",
    "import hashlib\n",
    "\n",
    "# lf_parsed = lf_parsed.with_row_count(name=\"ROW_ID\", offset=1)\n",
    "\n",
    "# Fonction pour hash (utilisation via map_elements car polars ne supporte pas apply direct)\n",
    "def hash_row(row):\n",
    "    to_hash = f\"{row['#CHROM']}_{row['POS']}_{row['REF']}_{row['ALT']}\"\n",
    "    return hashlib.sha256(to_hash.encode()).hexdigest()\n",
    "\n",
    "lf_parsed = lf_parsed.with_columns(\n",
    "    pl.struct([\"#CHROM\", \"POS\", \"REF\", \"ALT\"])\n",
    "    .map_elements(lambda row: hash_row(row), return_dtype=pl.Utf8)\n",
    "    .alias(\"VARIANT_HASH\")\n",
    ")"
   ]
  },
  {
   "cell_type": "code",
   "execution_count": 12,
   "metadata": {},
   "outputs": [
    {
     "data": {
      "text/html": [
       "<div><style>\n",
       ".dataframe > thead > tr,\n",
       ".dataframe > tbody > tr {\n",
       "  text-align: right;\n",
       "  white-space: pre-wrap;\n",
       "}\n",
       "</style>\n",
       "<small>shape: (5, 229)</small><table border=\"1\" class=\"dataframe\"><thead><tr><th>#CHROM</th><th>POS</th><th>ID</th><th>REF</th><th>ALT</th><th>QUAL</th><th>FILTER</th><th>INFO</th><th>FORMAT</th><th>1BD4I</th><th>1BD4M</th><th>1BD4P</th><th>AC</th><th>AF</th><th>AN</th><th>BaseQRankSum</th><th>DP</th><th>ExcessHet</th><th>FS</th><th>MLEAC</th><th>MLEAF</th><th>MQ</th><th>MQRankSum</th><th>QD</th><th>ReadPosRankSum</th><th>SOR</th><th>ANNOVAR_DATE</th><th>Func.refGeneWithVer</th><th>Gene.refGeneWithVer</th><th>GeneDetail.refGeneWithVer</th><th>ExonicFunc.refGeneWithVer</th><th>AAChange.refGeneWithVer</th><th>avsnp147</th><th>avsnp150</th><th>esp6500siv2_all</th><th>1000g2015aug_all</th><th>ExAC_nonpsych_ALL</th><th>&hellip;</th><th>PS1</th><th>PS2</th><th>PS3</th><th>PS4</th><th>PM1</th><th>PM2</th><th>PM3</th><th>PM4</th><th>PM5</th><th>PM6</th><th>PP1</th><th>PP2</th><th>PP3</th><th>PP4</th><th>PP5</th><th>BA1</th><th>BS1</th><th>BS2</th><th>BS3</th><th>BS4</th><th>BP1</th><th>BP2</th><th>BP3</th><th>BP4</th><th>BP5</th><th>BP6</th><th>BP7</th><th>DN ID</th><th>Patient ID</th><th>Phenotype</th><th>Platform</th><th>Study</th><th>Pubmed ID</th><th>regsnp_fpr</th><th>regsnp_disease</th><th>regsnp_splicing_site</th><th>VARIANT_HASH</th></tr><tr><td>str</td><td>i64</td><td>str</td><td>str</td><td>str</td><td>f64</td><td>str</td><td>str</td><td>str</td><td>str</td><td>str</td><td>str</td><td>str</td><td>str</td><td>str</td><td>str</td><td>str</td><td>str</td><td>str</td><td>str</td><td>str</td><td>str</td><td>str</td><td>str</td><td>str</td><td>str</td><td>str</td><td>str</td><td>str</td><td>str</td><td>str</td><td>str</td><td>str</td><td>str</td><td>str</td><td>str</td><td>str</td><td>&hellip;</td><td>str</td><td>str</td><td>str</td><td>str</td><td>str</td><td>str</td><td>str</td><td>str</td><td>str</td><td>str</td><td>str</td><td>str</td><td>str</td><td>str</td><td>str</td><td>str</td><td>str</td><td>str</td><td>str</td><td>str</td><td>str</td><td>str</td><td>str</td><td>str</td><td>str</td><td>str</td><td>str</td><td>str</td><td>str</td><td>str</td><td>str</td><td>str</td><td>str</td><td>str</td><td>str</td><td>str</td><td>str</td></tr></thead><tbody><tr><td>&quot;chr1&quot;</td><td>13273</td><td>&quot;.&quot;</td><td>&quot;G&quot;</td><td>&quot;C&quot;</td><td>1941.97</td><td>&quot;SNP_filter&quot;</td><td>&quot;AC=3;AF=0.5;AN=6;BaseQRankSum=…</td><td>&quot;GT:AD:DP:GQ:PL&quot;</td><td>&quot;0/1:8,21:29:99:610,0,207&quot;</td><td>&quot;0/1:26,29:55:99:820,0,685&quot;</td><td>&quot;0/1:32,22:54:99:522,0,892&quot;</td><td>&quot;3&quot;</td><td>&quot;0.5&quot;</td><td>&quot;6&quot;</td><td>&quot;-1.439&quot;</td><td>&quot;138&quot;</td><td>&quot;3.9794&quot;</td><td>&quot;2.164&quot;</td><td>&quot;3&quot;</td><td>&quot;0.5&quot;</td><td>&quot;36.56&quot;</td><td>&quot;0.241&quot;</td><td>&quot;14.07&quot;</td><td>&quot;-0.54&quot;</td><td>&quot;0.924&quot;</td><td>&quot;2020-06-08&quot;</td><td>&quot;ncRNA_exonic&quot;</td><td>&quot;DDX11L1&quot;</td><td>&quot;.&quot;</td><td>&quot;.&quot;</td><td>&quot;.&quot;</td><td>&quot;rs531730856&quot;</td><td>&quot;rs531730856&quot;</td><td>&quot;.&quot;</td><td>&quot;0.0950479&quot;</td><td>&quot;.&quot;</td><td>&hellip;</td><td>&quot;.&quot;</td><td>&quot;.&quot;</td><td>&quot;.&quot;</td><td>&quot;.&quot;</td><td>&quot;.&quot;</td><td>&quot;.&quot;</td><td>&quot;.&quot;</td><td>&quot;.&quot;</td><td>&quot;.&quot;</td><td>&quot;.&quot;</td><td>&quot;.&quot;</td><td>&quot;.&quot;</td><td>&quot;.&quot;</td><td>&quot;.&quot;</td><td>&quot;.&quot;</td><td>&quot;.&quot;</td><td>&quot;.&quot;</td><td>&quot;.&quot;</td><td>&quot;.&quot;</td><td>&quot;.&quot;</td><td>&quot;.&quot;</td><td>&quot;.&quot;</td><td>&quot;.&quot;</td><td>&quot;.&quot;</td><td>&quot;.&quot;</td><td>&quot;.&quot;</td><td>&quot;.&quot;</td><td>&quot;.&quot;</td><td>&quot;.&quot;</td><td>&quot;.&quot;</td><td>&quot;.&quot;</td><td>&quot;.&quot;</td><td>&quot;.&quot;</td><td>&quot;.&quot;</td><td>&quot;.&quot;</td><td>&quot;.&quot;</td><td>&quot;03002d43bd273be064f9549c99dc5c…</td></tr><tr><td>&quot;chr1&quot;</td><td>13284</td><td>&quot;.&quot;</td><td>&quot;G&quot;</td><td>&quot;A&quot;</td><td>256.29</td><td>&quot;SNP_filter&quot;</td><td>&quot;AC=1;AF=0.167;AN=6;BaseQRankSu…</td><td>&quot;GT:AD:DP:GQ:PL&quot;</td><td>&quot;0/0:32,0:32:93:0,93,1395&quot;</td><td>&quot;0/0:45,0:45:99:0,120,1800&quot;</td><td>&quot;0/1:42,13:55:99:265,0,1167&quot;</td><td>&quot;1&quot;</td><td>&quot;0.167&quot;</td><td>&quot;6&quot;</td><td>&quot;4.26&quot;</td><td>&quot;132&quot;</td><td>&quot;0&quot;</td><td>&quot;6.658&quot;</td><td>&quot;1&quot;</td><td>&quot;0.167&quot;</td><td>&quot;34.94&quot;</td><td>&quot;-1.109&quot;</td><td>&quot;4.66&quot;</td><td>&quot;1.54&quot;</td><td>&quot;1.004&quot;</td><td>&quot;2020-06-08&quot;</td><td>&quot;ncRNA_exonic&quot;</td><td>&quot;DDX11L1&quot;</td><td>&quot;.&quot;</td><td>&quot;.&quot;</td><td>&quot;.&quot;</td><td>&quot;rs548333521&quot;</td><td>&quot;rs548333521&quot;</td><td>&quot;.&quot;</td><td>&quot;0.00139776&quot;</td><td>&quot;.&quot;</td><td>&hellip;</td><td>&quot;.&quot;</td><td>&quot;.&quot;</td><td>&quot;.&quot;</td><td>&quot;.&quot;</td><td>&quot;.&quot;</td><td>&quot;.&quot;</td><td>&quot;.&quot;</td><td>&quot;.&quot;</td><td>&quot;.&quot;</td><td>&quot;.&quot;</td><td>&quot;.&quot;</td><td>&quot;.&quot;</td><td>&quot;.&quot;</td><td>&quot;.&quot;</td><td>&quot;.&quot;</td><td>&quot;.&quot;</td><td>&quot;.&quot;</td><td>&quot;.&quot;</td><td>&quot;.&quot;</td><td>&quot;.&quot;</td><td>&quot;.&quot;</td><td>&quot;.&quot;</td><td>&quot;.&quot;</td><td>&quot;.&quot;</td><td>&quot;.&quot;</td><td>&quot;.&quot;</td><td>&quot;.&quot;</td><td>&quot;.&quot;</td><td>&quot;.&quot;</td><td>&quot;.&quot;</td><td>&quot;.&quot;</td><td>&quot;.&quot;</td><td>&quot;.&quot;</td><td>&quot;.&quot;</td><td>&quot;.&quot;</td><td>&quot;.&quot;</td><td>&quot;f3fba87a45dc231d63adde9e0a2814…</td></tr><tr><td>&quot;chr1&quot;</td><td>13417</td><td>&quot;.&quot;</td><td>&quot;C&quot;</td><td>&quot;CGAGA&quot;</td><td>1211.93</td><td>&quot;PASS&quot;</td><td>&quot;AC=3;AF=0.5;AN=6;BaseQRankSum=…</td><td>&quot;GT:AD:DP:GQ:PGT:PID:PL:PS&quot;</td><td>&quot;0/1:21,11:32:99:.:.:395,0,1238…</td><td>&quot;0|1:24,11:35:99:0|1:13417_C_CG…</td><td>&quot;0/1:35,12:47:99:.:.:440,0,2019…</td><td>&quot;3&quot;</td><td>&quot;0.5&quot;</td><td>&quot;6&quot;</td><td>&quot;-0.933&quot;</td><td>&quot;125&quot;</td><td>&quot;3.9794&quot;</td><td>&quot;6.8&quot;</td><td>&quot;3&quot;</td><td>&quot;0.5&quot;</td><td>&quot;33.01&quot;</td><td>&quot;1.42&quot;</td><td>&quot;10.63&quot;</td><td>&quot;0.124&quot;</td><td>&quot;1.426&quot;</td><td>&quot;2020-06-08&quot;</td><td>&quot;ncRNA_exonic&quot;</td><td>&quot;DDX11L1&quot;</td><td>&quot;.&quot;</td><td>&quot;.&quot;</td><td>&quot;.&quot;</td><td>&quot;rs777038595&quot;</td><td>&quot;rs777038595&quot;</td><td>&quot;.&quot;</td><td>&quot;.&quot;</td><td>&quot;0.1797&quot;</td><td>&hellip;</td><td>&quot;.&quot;</td><td>&quot;.&quot;</td><td>&quot;.&quot;</td><td>&quot;.&quot;</td><td>&quot;.&quot;</td><td>&quot;.&quot;</td><td>&quot;.&quot;</td><td>&quot;.&quot;</td><td>&quot;.&quot;</td><td>&quot;.&quot;</td><td>&quot;.&quot;</td><td>&quot;.&quot;</td><td>&quot;.&quot;</td><td>&quot;.&quot;</td><td>&quot;.&quot;</td><td>&quot;.&quot;</td><td>&quot;.&quot;</td><td>&quot;.&quot;</td><td>&quot;.&quot;</td><td>&quot;.&quot;</td><td>&quot;.&quot;</td><td>&quot;.&quot;</td><td>&quot;.&quot;</td><td>&quot;.&quot;</td><td>&quot;.&quot;</td><td>&quot;.&quot;</td><td>&quot;.&quot;</td><td>&quot;.&quot;</td><td>&quot;.&quot;</td><td>&quot;.&quot;</td><td>&quot;.&quot;</td><td>&quot;.&quot;</td><td>&quot;.&quot;</td><td>&quot;.&quot;</td><td>&quot;.&quot;</td><td>&quot;.&quot;</td><td>&quot;fa35f50e416fc9592961fdd2dc6c43…</td></tr><tr><td>&quot;chr1&quot;</td><td>13418</td><td>&quot;.&quot;</td><td>&quot;G&quot;</td><td>&quot;A&quot;</td><td>21.29</td><td>&quot;LowQD;SNP_filter;VeryLowQual&quot;</td><td>&quot;AC=1;AF=0.167;AN=6;BaseQRankSu…</td><td>&quot;GT:AD:DP:GQ:PGT:PID:PL:PS&quot;</td><td>&quot;0/0:34,0:34:48:.:.:0,48,1076:.&quot;</td><td>&quot;0|1:33,5:38:30:1|0:13417_C_CGA…</td><td>&quot;0/0:51,0:51:67:.:.:0,67,1759:.&quot;</td><td>&quot;1&quot;</td><td>&quot;0.167&quot;</td><td>&quot;6&quot;</td><td>&quot;1.76&quot;</td><td>&quot;123&quot;</td><td>&quot;0&quot;</td><td>&quot;15.651&quot;</td><td>&quot;1&quot;</td><td>&quot;0.167&quot;</td><td>&quot;33.24&quot;</td><td>&quot;-2.732&quot;</td><td>&quot;0.56&quot;</td><td>&quot;0.281&quot;</td><td>&quot;1.852&quot;</td><td>&quot;2020-06-08&quot;</td><td>&quot;ncRNA_exonic&quot;</td><td>&quot;DDX11L1&quot;</td><td>&quot;.&quot;</td><td>&quot;.&quot;</td><td>&quot;.&quot;</td><td>&quot;rs759389692&quot;</td><td>&quot;rs75175547&quot;</td><td>&quot;.&quot;</td><td>&quot;.&quot;</td><td>&quot;0&quot;</td><td>&hellip;</td><td>&quot;.&quot;</td><td>&quot;.&quot;</td><td>&quot;.&quot;</td><td>&quot;.&quot;</td><td>&quot;.&quot;</td><td>&quot;.&quot;</td><td>&quot;.&quot;</td><td>&quot;.&quot;</td><td>&quot;.&quot;</td><td>&quot;.&quot;</td><td>&quot;.&quot;</td><td>&quot;.&quot;</td><td>&quot;.&quot;</td><td>&quot;.&quot;</td><td>&quot;.&quot;</td><td>&quot;.&quot;</td><td>&quot;.&quot;</td><td>&quot;.&quot;</td><td>&quot;.&quot;</td><td>&quot;.&quot;</td><td>&quot;.&quot;</td><td>&quot;.&quot;</td><td>&quot;.&quot;</td><td>&quot;.&quot;</td><td>&quot;.&quot;</td><td>&quot;.&quot;</td><td>&quot;.&quot;</td><td>&quot;.&quot;</td><td>&quot;.&quot;</td><td>&quot;.&quot;</td><td>&quot;.&quot;</td><td>&quot;.&quot;</td><td>&quot;.&quot;</td><td>&quot;.&quot;</td><td>&quot;.&quot;</td><td>&quot;.&quot;</td><td>&quot;b82c05d3267d14e48267af1dc98ade…</td></tr><tr><td>&quot;chr1&quot;</td><td>13613</td><td>&quot;.&quot;</td><td>&quot;T&quot;</td><td>&quot;A&quot;</td><td>43.3</td><td>&quot;LowQD;LowQual;SNP_filter&quot;</td><td>&quot;AC=1;AF=0.167;AN=6;BaseQRankSu…</td><td>&quot;GT:AD:DP:GQ:PL&quot;</td><td>&quot;0/0:33,0:33:99:0,99,1236&quot;</td><td>&quot;0/1:48,8:56:52:52,0,1163&quot;</td><td>&quot;0/0:56,6:62:23:0,23,1421&quot;</td><td>&quot;1&quot;</td><td>&quot;0.167&quot;</td><td>&quot;6&quot;</td><td>&quot;0.791&quot;</td><td>&quot;151&quot;</td><td>&quot;0&quot;</td><td>&quot;41.748&quot;</td><td>&quot;1&quot;</td><td>&quot;0.167&quot;</td><td>&quot;24.46&quot;</td><td>&quot;-3.065&quot;</td><td>&quot;0.77&quot;</td><td>&quot;1.41&quot;</td><td>&quot;5.419&quot;</td><td>&quot;2020-06-08&quot;</td><td>&quot;ncRNA_exonic&quot;</td><td>&quot;DDX11L1&quot;</td><td>&quot;.&quot;</td><td>&quot;.&quot;</td><td>&quot;.&quot;</td><td>&quot;.&quot;</td><td>&quot;rs879980801&quot;</td><td>&quot;.&quot;</td><td>&quot;.&quot;</td><td>&quot;.&quot;</td><td>&hellip;</td><td>&quot;.&quot;</td><td>&quot;.&quot;</td><td>&quot;.&quot;</td><td>&quot;.&quot;</td><td>&quot;.&quot;</td><td>&quot;.&quot;</td><td>&quot;.&quot;</td><td>&quot;.&quot;</td><td>&quot;.&quot;</td><td>&quot;.&quot;</td><td>&quot;.&quot;</td><td>&quot;.&quot;</td><td>&quot;.&quot;</td><td>&quot;.&quot;</td><td>&quot;.&quot;</td><td>&quot;.&quot;</td><td>&quot;.&quot;</td><td>&quot;.&quot;</td><td>&quot;.&quot;</td><td>&quot;.&quot;</td><td>&quot;.&quot;</td><td>&quot;.&quot;</td><td>&quot;.&quot;</td><td>&quot;.&quot;</td><td>&quot;.&quot;</td><td>&quot;.&quot;</td><td>&quot;.&quot;</td><td>&quot;.&quot;</td><td>&quot;.&quot;</td><td>&quot;.&quot;</td><td>&quot;.&quot;</td><td>&quot;.&quot;</td><td>&quot;.&quot;</td><td>&quot;.&quot;</td><td>&quot;.&quot;</td><td>&quot;.&quot;</td><td>&quot;5f91798762573292c8d9c250ae289f…</td></tr></tbody></table></div>"
      ],
      "text/plain": [
       "shape: (5, 229)\n",
       "┌────────┬───────┬─────┬─────┬───┬────────────┬────────────────┬─────────────────┬─────────────────┐\n",
       "│ #CHROM ┆ POS   ┆ ID  ┆ REF ┆ … ┆ regsnp_fpr ┆ regsnp_disease ┆ regsnp_splicing ┆ VARIANT_HASH    │\n",
       "│ ---    ┆ ---   ┆ --- ┆ --- ┆   ┆ ---        ┆ ---            ┆ _site           ┆ ---             │\n",
       "│ str    ┆ i64   ┆ str ┆ str ┆   ┆ str        ┆ str            ┆ ---             ┆ str             │\n",
       "│        ┆       ┆     ┆     ┆   ┆            ┆                ┆ str             ┆                 │\n",
       "╞════════╪═══════╪═════╪═════╪═══╪════════════╪════════════════╪═════════════════╪═════════════════╡\n",
       "│ chr1   ┆ 13273 ┆ .   ┆ G   ┆ … ┆ .          ┆ .              ┆ .               ┆ 03002d43bd273be │\n",
       "│        ┆       ┆     ┆     ┆   ┆            ┆                ┆                 ┆ 064f9549c99dc5c │\n",
       "│        ┆       ┆     ┆     ┆   ┆            ┆                ┆                 ┆ …               │\n",
       "│ chr1   ┆ 13284 ┆ .   ┆ G   ┆ … ┆ .          ┆ .              ┆ .               ┆ f3fba87a45dc231 │\n",
       "│        ┆       ┆     ┆     ┆   ┆            ┆                ┆                 ┆ d63adde9e0a2814 │\n",
       "│        ┆       ┆     ┆     ┆   ┆            ┆                ┆                 ┆ …               │\n",
       "│ chr1   ┆ 13417 ┆ .   ┆ C   ┆ … ┆ .          ┆ .              ┆ .               ┆ fa35f50e416fc95 │\n",
       "│        ┆       ┆     ┆     ┆   ┆            ┆                ┆                 ┆ 92961fdd2dc6c43 │\n",
       "│        ┆       ┆     ┆     ┆   ┆            ┆                ┆                 ┆ …               │\n",
       "│ chr1   ┆ 13418 ┆ .   ┆ G   ┆ … ┆ .          ┆ .              ┆ .               ┆ b82c05d3267d14e │\n",
       "│        ┆       ┆     ┆     ┆   ┆            ┆                ┆                 ┆ 48267af1dc98ade │\n",
       "│        ┆       ┆     ┆     ┆   ┆            ┆                ┆                 ┆ …               │\n",
       "│ chr1   ┆ 13613 ┆ .   ┆ T   ┆ … ┆ .          ┆ .              ┆ .               ┆ 5f9179876257329 │\n",
       "│        ┆       ┆     ┆     ┆   ┆            ┆                ┆                 ┆ 2c8d9c250ae289f │\n",
       "│        ┆       ┆     ┆     ┆   ┆            ┆                ┆                 ┆ …               │\n",
       "└────────┴───────┴─────┴─────┴───┴────────────┴────────────────┴─────────────────┴─────────────────┘"
      ]
     },
     "execution_count": 12,
     "metadata": {},
     "output_type": "execute_result"
    }
   ],
   "source": [
    "lf_parsed.limit(5).collect()"
   ]
  },
  {
   "cell_type": "code",
   "execution_count": 13,
   "metadata": {},
   "outputs": [
    {
     "name": "stdout",
     "output_type": "stream",
     "text": [
      "Schema([('#CHROM', String), ('POS', Int64), ('ID', String), ('REF', String), ('ALT', String), ('QUAL', Float64), ('FILTER', String), ('INFO', String), ('FORMAT', String), ('1BD4I', String), ('1BD4M', String), ('1BD4P', String), ('VARIANT_HASH', String)])\n"
     ]
    },
    {
     "name": "stderr",
     "output_type": "stream",
     "text": [
      "/tmp/ipykernel_642220/2506692253.py:1: PerformanceWarning: Resolving the schema of a LazyFrame is a potentially expensive operation. Use `LazyFrame.collect_schema()` to get the schema without this warning.\n",
      "  print(lf_parsed.schema)\n"
     ]
    }
   ],
   "source": [
    "print(lf_parsed.schema)\n"
   ]
  },
  {
   "cell_type": "code",
   "execution_count": null,
   "metadata": {},
   "outputs": [
    {
     "name": "stderr",
     "output_type": "stream",
     "text": [
      "/tmp/ipykernel_642220/375505352.py:1: DeprecationWarning: The old streaming engine is being deprecated and will soon be replaced by the new streaming engine. Starting Polars version 1.23.0 and until the new streaming engine is released, the old streaming engine may become less usable. For people who rely on the old streaming engine, it is suggested to pin your version to before 1.23.0.\n",
      "\n",
      "More information on the new streaming engine: https://github.com/pola-rs/polars/issues/20947\n",
      "  lf_parsed.sink_parquet(\"db/variants.parquet\")\n"
     ]
    }
   ],
   "source": [
    "lf_parsed.sink_parquet(\"../db/variants.parquet\")"
   ]
  },
  {
   "cell_type": "code",
   "execution_count": null,
   "metadata": {},
   "outputs": [],
   "source": []
  }
 ],
 "metadata": {
  "kernelspec": {
   "display_name": ".venv",
   "language": "python",
   "name": "python3"
  },
  "language_info": {
   "codemirror_mode": {
    "name": "ipython",
    "version": 3
   },
   "file_extension": ".py",
   "mimetype": "text/x-python",
   "name": "python",
   "nbconvert_exporter": "python",
   "pygments_lexer": "ipython3",
   "version": "3.11.2"
  }
 },
 "nbformat": 4,
 "nbformat_minor": 2
}
